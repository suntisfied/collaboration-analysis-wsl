{
 "cells": [
  {
   "cell_type": "code",
   "execution_count": null,
   "id": "import-data",
   "metadata": {},
   "outputs": [],
   "source": [
    "import pandas as pd\n",
    "import re\n",
    "import json\n",
    "from collections import defaultdict\n",
    "import matplotlib.pyplot as plt\n",
    "import seaborn as sns\n",
    "import networkx as nx"
   ]
  },
  {
   "cell_type": "code",
   "execution_count": null,
   "id": "define-path",
   "metadata": {},
   "outputs": [],
   "source": [
    "# Define the path to the transcription file\n",
    "file_path = 'D:\\\\Programmers Dev Course_Data Analyst Track\\\\cowork_analysis\\\\transcription.txt'"
   ]
  },
  {
   "cell_type": "code",
   "execution_count": null,
   "id": "read-file",
   "metadata": {},
   "outputs": [],
   "source": [
    "# Read the transcription file\n",
    "with open(file_path, 'r', encoding='utf-8') as file:\n",
    "    data = file.read()"
   ]
  },
  {
   "cell_type": "code",
   "execution_count": null,
   "id": "extract-speaker-turns",
   "metadata": {},
   "outputs": [],
   "source": [
    "# Extract speaker turns\n",
    "speaker_pattern = re.compile(r'Speaker (SPEAKER_\\d+):')\n",
    "turns = speaker_pattern.split(data)[1:]  # Split and remove the first empty element\n",
    "speakers = turns[0::2]\n",
    "texts = turns[1::2]"
   ]
  },
  {
   "cell_type": "code",
   "execution_count": null,
   "id": "create-dataframe",
   "metadata": {},
   "outputs": [],
   "source": [
    "# Create a DataFrame\n",
    "df = pd.DataFrame({\n",
    "    'Speaker': speakers,\n",
    "    'Text': texts\n",
    "})"
   ]
  },
  {
   "cell_type": "code",
   "execution_count": null,
   "id": "interaction-matrix",
   "metadata": {},
   "outputs": [],
   "source": [
    "# Interaction Matrix\n",
    "interaction_matrix = defaultdict(lambda: defaultdict(int))\n",
    "for i in range(1, len(df)):\n",
    "    prev_speaker = df.iloc[i-1]['Speaker']\n",
    "    curr_speaker = df.iloc[i]['Speaker']\n",
    "    interaction_matrix[prev_speaker][curr_speaker] += 1\n",
    "\n",
    "interaction_df = pd.DataFrame(interaction_matrix).fillna(0)"
   ]
  },
  {
   "cell_type": "code",
   "execution_count": null,
   "id": "interaction-json",
   "metadata": {},
   "outputs": [],
   "source": [
    "# Convert interaction matrix to JSON\n",
    "interaction_json = interaction_df.to_dict(orient='index')"
   ]
  },
  {
   "cell_type": "code",
   "execution_count": null,
   "id": "frequency-analysis",
   "metadata": {},
   "outputs": [],
   "source": [
    "# Frequency Analysis\n",
    "frequency = df['Speaker'].value_counts().reset_index()\n",
    "frequency.columns = ['Speaker', 'Frequency']"
   ]
  },
  {
   "cell_type": "code",
   "execution_count": null,
   "id": "frequency-json",
   "metadata": {},
   "outputs": [],
   "source": [
    "# Convert frequency analysis to JSON\n",
    "frequency_json = frequency.to_dict(orient='records')"
   ]
  },
  {
   "cell_type": "code",
   "execution_count": null,
   "id": "interaction-network",
   "metadata": {},
   "outputs": [],
   "source": [
    "# Create Interaction Network Graph\n",
    "G = nx.DiGraph()\n",
    "for i in range(1, len(df)):\n",
    "    prev_speaker = df.iloc[i-1]['Speaker']\n",
    "    curr_speaker = df.iloc[i]['Speaker']\n",
    "    if G.has_edge(prev_speaker, curr_speaker):\n",
    "        G[prev_speaker][curr_speaker]['weight'] += 1\n",
    "    else:\n",
    "        G.add_edge(prev_speaker, curr_speaker, weight=1)"
   ]
  },
  {
   "cell_type": "code",
   "execution_count": null,
   "id": "plot-heatmap",
   "metadata": {},
   "outputs": [],
   "source": [
    "# Visualization (Optional)\n",
    "# Plotting Interaction Heatmap\n",
    "plt.figure(figsize=(10, 8))\n",
    "sns.heatmap(interaction_df, annot=True, cmap='Blues')\n",
    "plt.title('Speaker Interaction Heatmap')\n",
    "plt.xlabel('Speaker')\n",
    "plt.ylabel('Follows Speaker')\n",
    "plt.show()"
   ]
  },
  {
   "cell_type": "code",
   "execution_count": null,
   "id": "plot-frequency",
   "metadata": {},
   "outputs": [],
   "source": [
    "# Plotting Frequency\n",
    "plt.figure(figsize=(10, 6))\n",
    "sns.barplot(data=frequency, x='Speaker', y='Frequency')\n",
    "plt.title('Speaker Frequency')\n",
    "plt.xlabel('Speaker')\n",
    "plt.ylabel('Number of Turns')\n",
    "plt.show()"
   ]
  },
  {
   "cell_type": "code",
   "execution_count": null,
   "id": "plot-network",
   "metadata": {},
   "outputs": [],
   "source": [
    "# Create Interaction Network Graph\n",
    "pos = nx.spring_layout(G)\n",
    "plt.figure(figsize=(12, 10))\n",
    "nx.draw(G, pos, with_labels=True, node_size=3000, node_color=\"skyblue\", font_size=20, font_color=\"black\", font_weight=\"bold\", width=2, edge_color=\"gray\")\n",
    "edge_labels = nx.get_edge_attributes(G, 'weight')\n",
    "nx.draw_networkx_edge_labels(G, pos, edge_labels=edge_labels, font_color='red')\n",
    "plt.title('Speaker Interaction Network')\n",
    "plt.show()"
   ]
  },
  {
   "cell_type": "code",
   "execution_count": null,
   "id": "output-json",
   "metadata": {},
   "outputs": [],
   "source": [
    "# Output JSON\n",
    "output = {\n",
    "    'interaction_matrix': interaction_json,\n",
    "    'frequency_analysis': frequency_json\n",
    "}\n",
    "\n",
    "# Save JSON to file\n",
    "output_file_path = 'D:\\\\Programmers Dev Course_Data Analyst Track\\\\cowork_analysis\\\\analysis_output.json'\n",
    "with open(output_file_path, 'w', encoding='utf-8') as output_file:\n",
    "    json.dump(output, output_file, ensure_ascii=False, indent=4)\n",
    "\n",
    "# Display JSON output\n",
    "output"
   ]
  }
 ],
 "metadata": {
  "kernelspec": {
   "display_name": "Python 3",
   "language": "python",
   "name": "python3"
  },
  "language_info": {
   "codemirror_mode": {
    "name": "ipython",
    "version": 3
   },
   "file_extension": ".py",
   "mimetype": "text/x-python",
   "name": "python",
   "nbconvert_exporter": "python",
   "pygments_lexer": "ipython3",
   "version": "3.9.7"
  }
 },
 "nbformat": 4,
 "nbformat_minor": 5
}
